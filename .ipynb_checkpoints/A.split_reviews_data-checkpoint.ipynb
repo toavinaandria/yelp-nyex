{
 "cells": [
  {
   "cell_type": "code",
   "execution_count": 1,
   "metadata": {
    "ExecuteTime": {
     "end_time": "2017-01-11T18:31:09.001506",
     "start_time": "2017-01-11T18:31:08.952436"
    },
    "collapsed": false
   },
   "outputs": [],
   "source": [
    "import _pickle\n",
    "from os.path import join"
   ]
  },
  {
   "cell_type": "markdown",
   "metadata": {},
   "source": [
    "This script splits the review.json data into 6 parts as it may not fit in memory as large dataset"
   ]
  },
  {
   "cell_type": "code",
   "execution_count": 8,
   "metadata": {
    "ExecuteTime": {
     "end_time": "2017-01-11T18:32:02.603736",
     "start_time": "2017-01-11T18:31:10.650154"
    },
    "collapsed": false
   },
   "outputs": [
    {
     "name": "stdout",
     "output_type": "stream",
     "text": [
      "Saving split reviews data to pickles/1.split_reviews\n",
      "Saving split reviews data to pickles/1.split_reviews\n",
      "Saving split reviews data to pickles/1.split_reviews\n",
      "Saving split reviews data to pickles/1.split_reviews\n",
      "Saving split reviews data to pickles/1.split_reviews\n",
      "Saving split reviews data to pickles/1.split_reviews\n",
      "Script complete\n"
     ]
    }
   ],
   "source": [
    "# 1. Set Variables\n",
    "# -----------------\n",
    "\n",
    "save_folder = join('pickles','1.split_reviews')\n",
    "input_file = join('raw_data','yelp_academic_dataset_review.json')\n",
    "\n",
    "# The variable below determines the number of splits used for the review JSON data\n",
    "num_splits = 6\n",
    "\n",
    "\n",
    "# 2. Define functions to be used\n",
    "# ------------------------------\n",
    "\n",
    "def split_list(targetlist, parts=1):\n",
    "    \"\"\"Splits a list into n parts\"\"\"\n",
    "    length = len(targetlist)\n",
    "    return [ targetlist[i*length // parts: (i+1)*length // parts] for i in range(parts) ]\n",
    "\n",
    "\n",
    "#3. Main script\n",
    "# -------------\n",
    "\n",
    "# Read line by line into a list as a string\n",
    "with open('raw_data/yelp_academic_dataset_review.json') as file:\n",
    "    list_of_reviews = file.readlines()\n",
    "    \n",
    "splitlist = split_list(list_of_reviews, num_splits)\n",
    "\n",
    "print('Saving split reviews data to {}'.format(save_folder))\n",
    "for i in range(num_splits):\n",
    "    _pickle.dump(splitlist[i],open(join(save_folder,\n",
    "                                        'lor{}_{}.pkl'.format(str(i+1),str(num_splits))\n",
    "                                       ),'wb'))\n",
    "    \n",
    "print('Script complete')"
   ]
  }
 ],
 "metadata": {
  "anaconda-cloud": {},
  "kernelspec": {
   "display_name": "Python [conda root]",
   "language": "python",
   "name": "conda-root-py"
  },
  "language_info": {
   "codemirror_mode": {
    "name": "ipython",
    "version": 2
   },
   "file_extension": ".py",
   "mimetype": "text/x-python",
   "name": "python",
   "nbconvert_exporter": "python",
   "pygments_lexer": "ipython2",
   "version": "2.7.12"
  }
 },
 "nbformat": 4,
 "nbformat_minor": 0
}
