{
 "cells": [
  {
   "cell_type": "code",
   "execution_count": 3,
   "metadata": {
    "ExecuteTime": {
     "end_time": "2017-01-11T17:15:47.715045",
     "start_time": "2017-01-11T17:15:47.710121"
    },
    "collapsed": false
   },
   "outputs": [],
   "source": [
    "import pandas as pd\n",
    "import _pickle\n",
    "import gc\n",
    "from os.path import join\n",
    "from os import listdir\n",
    "from tqdm import tqdm"
   ]
  },
  {
   "cell_type": "markdown",
   "metadata": {},
   "source": [
    "This script cleans the pickled dataframes from previous steps to reduce memory usage so the review dataframe can be pickled to disk"
   ]
  },
  {
   "cell_type": "code",
   "execution_count": 25,
   "metadata": {
    "ExecuteTime": {
     "end_time": "2017-01-11T18:45:22.509851",
     "start_time": "2017-01-11T18:45:22.152170"
    },
    "collapsed": true
   },
   "outputs": [],
   "source": [
    "# Shows progress bar when using pandas apply\n",
    "tqdm.pandas(desc='progress bar')\n",
    "\n",
    "save_folder = join('pickles','3.agg_dfs')"
   ]
  },
  {
   "cell_type": "code",
   "execution_count": null,
   "metadata": {
    "collapsed": true
   },
   "outputs": [],
   "source": [
    "# Functions for scripts\n",
    "\n",
    "def flatten_votes(df):\n",
    "    \"\"\"Flattens the vote column in the review dataframe\"\"\"\n",
    "    votes = df.votes.apply(pd.Series)\n",
    "    new_df = pd.concat([df,votes], axis=1)\n",
    "    new_df = new_df.drop('votes', axis=1)\n",
    "    new_df = new_df.rename(columns={'cool':'review_cool',\n",
    "                          'funny':'review_funny',\n",
    "                          'useful':'review_useful'})\n",
    "    return new_df\n",
    "\n",
    "\n",
    "def col_to_small_int(df,columns):\n",
    "    \"\"\"Changes columny type for selected columns to uint8 to reduce memory usage\"\"\"\n",
    "    for col in columns:\n",
    "        df[col] = df[col].astype('uint8')\n",
    "    return df\n",
    "\n",
    "\n",
    "def clean_df(df):\n",
    "    \"\"\"Amend column datatypes and cleans dataframe to reduce memory usage\"\"\"\n",
    "    # Change small int columns to uint8 to save memory\n",
    "    df = col_to_small_int(df,['review_cool','review_funny','review_useful','stars'])\n",
    "    \n",
    "    # Change date to datetime dtype\n",
    "    df['date'] = pd.to_datetime(df['date'])\n",
    "    \n",
    "    # Drop type column as no variance\n",
    "    df.drop('type',axis=1, inplace=True)\n",
    "    \n",
    "    # Reset the index for easier reference\n",
    "    df.reset_index(inplace=True)\n",
    "    df.drop('index',axis=1, inplace=True)\n",
    "    \n",
    "    return df"
   ]
  },
  {
   "cell_type": "code",
   "execution_count": 6,
   "metadata": {
    "ExecuteTime": {
     "end_time": "2017-01-11T17:17:28.777060",
     "start_time": "2017-01-11T17:17:28.774068"
    },
    "collapsed": true
   },
   "outputs": [],
   "source": [
    "# Load relevant files\n",
    "files_to_load = [file for file in listdir('pickles') if 'reviewdf' in file]\n",
    "reviewdf_list = [_pickle.load(open(join('pickles',file),'rb')) for file in files_to_load]\n",
    "\n",
    "# Create review_data dataframe\n",
    "reviewdf_list = [flatten_votes(df) for df in tqdm(reviewdf_list)]\n",
    "review_data = pd.concat([df for df in reviewdf_list])\n",
    "\n",
    "# Clean the dataframe\n",
    "review_data = clean_df(review_data)\n",
    "\n",
    "# Clean memory\n",
    "del reviewdf_list, files_to_load\n",
    "gc.collect()"
   ]
  },
  {
   "cell_type": "code",
   "execution_count": 24,
   "metadata": {
    "ExecuteTime": {
     "end_time": "2017-01-11T17:45:39.141836",
     "start_time": "2017-01-11T17:45:01.661377"
    },
    "collapsed": false
   },
   "outputs": [],
   "source": [
    "# Pickle the resulting dataframe\n",
    "_pickle.dump(review_data,open(join(save_folder,'review_data.pkl'),'wb'))"
   ]
  }
 ],
 "metadata": {
  "anaconda-cloud": {},
  "kernelspec": {
   "display_name": "Python [conda env:python3]",
   "language": "python",
   "name": "conda-env-python3-py"
  },
  "language_info": {
   "codemirror_mode": {
    "name": "ipython",
    "version": 3
   },
   "file_extension": ".py",
   "mimetype": "text/x-python",
   "name": "python",
   "nbconvert_exporter": "python",
   "pygments_lexer": "ipython3",
   "version": "3.5.2"
  }
 },
 "nbformat": 4,
 "nbformat_minor": 0
}
