{
 "cells": [
  {
   "cell_type": "code",
   "execution_count": 1,
   "metadata": {
    "ExecuteTime": {
     "end_time": "2017-01-11T18:26:49.137160",
     "start_time": "2017-01-11T18:26:49.118885"
    },
    "collapsed": false
   },
   "outputs": [],
   "source": [
    "import pandas as pd\n",
    "from joblib import Parallel, delayed, cpu_count\n",
    "import _pickle\n",
    "import json\n",
    "import gc\n",
    "from os.path import join\n",
    "from os import listdir\n",
    "from tqdm import tqdm"
   ]
  },
  {
   "cell_type": "markdown",
   "metadata": {},
   "source": [
    "This script creates split dataframes (so that memory is not an issue, to be later cleaned and merged) from the previous step (strings of JSON stored as lists)"
   ]
  },
  {
   "cell_type": "code",
   "execution_count": 12,
   "metadata": {
    "ExecuteTime": {
     "end_time": "2017-01-11T18:36:43.270433",
     "start_time": "2017-01-11T18:35:13.563153"
    },
    "collapsed": false
   },
   "outputs": [],
   "source": [
    "# 1. Set variables\n",
    "# -------------------\n",
    "\n",
    "input_folder = join('pickles','1.split_reviews')\n",
    "save_folder = join('pickles','2.split_review_dfs')\n",
    "\n",
    "\n",
    "# Define functions \n",
    "# -----------------\n",
    "\n",
    "def create_row(item):\n",
    "    \"\"\"Takes a list of json formatted as strings and creates a Pandas dataframe row from that list\"\"\"\n",
    "    row = pd.DataFrame.from_dict(json.loads(item.replace('\\n','')),orient='index').transpose()\n",
    "    return row\n",
    "\n",
    "def create_frames(review_list,savepath, cpus=cpu_count()-1):\n",
    "    \"\"\"\n",
    "    Concatenates list of reviews into a pandas dataframe and saves a pickled object to savepath\n",
    "    review_list: a list of JSON objects formatted as strings\n",
    "    cpus: Number of processes to run, defaults to number of cores minus 1\n",
    "    \"\"\"\n",
    "    # Creates a list of dataframe rows to be concatenated\n",
    "    frames = Parallel(n_jobs=cpus)(delayed(create_row)(review) for review in tqdm(review_list))\n",
    "    \n",
    "    print(\"Concatenating frames to a pandas dataframe\")\n",
    "    df = pd.concat(frames)\n",
    "    \n",
    "    print(\"Pickling dataframe to \"+ savepath)\n",
    "    _pickle.dump(df,open(savepath,'wb'))\n",
    "    \n",
    "    print(\"Clearing memory\")\n",
    "    del frames,review_list, df\n",
    "    gc.collect()\n",
    "    \n",
    "    print('Review dataframe part created')\n",
    "\n",
    "\n",
    "# 3. Main script\n",
    "# -----------------------\n",
    "\n",
    "# A. Load relevant files\n",
    "input_filelist = [file for file in listdir(input_folder)]\n",
    "lor_agg = [_pickle.load(open(join(input_folder,file),'rb')) for file in input_filelist]\n",
    "num_splits = len(lor_agg)\n",
    "\n",
    "# B. Pickle dataframes to disk\n",
    "for i in range(num_splits):\n",
    "    create_frames(lor,join(save_folder,'reviewdf{}_{}.pkl'.format(str(i+1),str(num_splits))))"
   ]
  }
 ],
 "metadata": {
  "anaconda-cloud": {},
  "kernelspec": {
   "display_name": "Python [conda root]",
   "language": "python",
   "name": "conda-root-py"
  },
  "language_info": {
   "codemirror_mode": {
    "name": "ipython",
    "version": 3
   },
   "file_extension": ".py",
   "mimetype": "text/x-python",
   "name": "python",
   "nbconvert_exporter": "python",
   "pygments_lexer": "ipython3",
   "version": "3.5.2"
  }
 },
 "nbformat": 4,
 "nbformat_minor": 0
}
