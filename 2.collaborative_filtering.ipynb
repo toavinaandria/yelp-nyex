{
 "cells": [
  {
   "cell_type": "code",
   "execution_count": 362,
   "metadata": {
    "ExecuteTime": {
     "end_time": "2017-01-17T04:41:09.551371",
     "start_time": "2017-01-17T04:41:09.544527"
    },
    "collapsed": true
   },
   "outputs": [],
   "source": [
    "import pandas as pd\n",
    "import _pickle\n",
    "import numpy as np\n",
    "from os.path import join\n",
    "from tqdm import tqdm, tqdm_notebook\n",
    "import gc\n",
    "import matplotlib.pyplot as plt\n",
    "%matplotlib inline\n",
    "plt.style.use('ggplot')"
   ]
  },
  {
   "cell_type": "code",
   "execution_count": 176,
   "metadata": {
    "ExecuteTime": {
     "end_time": "2017-01-17T02:46:07.174841",
     "start_time": "2017-01-17T02:46:07.172051"
    },
    "collapsed": false
   },
   "outputs": [],
   "source": [
    "from sklearn.preprocessing import LabelEncoder\n",
    "from sklearn.model_selection import train_test_split"
   ]
  },
  {
   "cell_type": "code",
   "execution_count": 177,
   "metadata": {
    "ExecuteTime": {
     "end_time": "2017-01-17T02:46:08.838103",
     "start_time": "2017-01-17T02:46:08.812461"
    },
    "collapsed": false
   },
   "outputs": [
    {
     "name": "stdout",
     "output_type": "stream",
     "text": [
      "\n"
     ]
    }
   ],
   "source": [
    "# Registers the progress bar with pandas\n",
    "tqdm_notebook().pandas(desc='Progress:')"
   ]
  },
  {
   "cell_type": "markdown",
   "metadata": {},
   "source": [
    "# 1. Load Data and Create Restaurant Reviews"
   ]
  },
  {
   "cell_type": "code",
   "execution_count": 179,
   "metadata": {
    "ExecuteTime": {
     "end_time": "2017-01-17T02:46:41.677861",
     "start_time": "2017-01-17T02:46:19.083329"
    },
    "collapsed": false
   },
   "outputs": [
    {
     "name": "stdout",
     "output_type": "stream",
     "text": [
      "Creating restaurant boolean\n",
      "\n",
      "Filtering restaurant reviews only\n",
      "\n",
      "Merging restaurant and user review data\n"
     ]
    }
   ],
   "source": [
    "# Load restaurant and business data\n",
    "# ---------------------------------\n",
    "\n",
    "input_folder = join('pickles','3.agg_dfs')\n",
    "\n",
    "review_data = _pickle.load(open(join(input_folder,'review_data.pkl'),'rb'))\n",
    "business_data = _pickle.load(open(join(input_folder,'business_data.pkl'),'rb'))\n",
    "\n",
    "def filter_restaurant_reviews(business_df,reviews_df):\n",
    "    \"\"\"\n",
    "    Takes the restaurant and review dataframes and returns \n",
    "    a filtered dataframe of restaurant reviews\n",
    "    \"\"\"\n",
    "    \n",
    "    print('Creating restaurant boolean')\n",
    "    restaurant_filter = business_df.categories.progress_apply(lambda x: 'Restaurants' in x)\n",
    "    restaurant_df = business_df[restaurant_filter]\n",
    "    restaurant_ids = set(restaurant_df.business_id)\n",
    "    \n",
    "    print('Filtering restaurant reviews only')\n",
    "    restaurant_review_filter = reviews_df['business_id'].progress_apply(lambda x: x in restaurant_ids)\n",
    "    restaurant_reviews = reviews_df[restaurant_review_filter]\n",
    "    \n",
    "    print('Merging restaurant and user review data')\n",
    "    restaurant_reviews = pd.merge(restaurant_reviews,\n",
    "                                  restaurant_df,\n",
    "                                  how='left',\n",
    "                                  left_on='business_id',\n",
    "                                  right_on='business_id')\n",
    "    \n",
    "    return restaurant_reviews\n",
    "\n",
    "restaurant_reviews = filter_restaurant_reviews(business_data,review_data)"
   ]
  },
  {
   "cell_type": "markdown",
   "metadata": {},
   "source": [
    "# 2. Filter for a particular city with many reviews in English-speaking states to reduce dimensionality"
   ]
  },
  {
   "cell_type": "code",
   "execution_count": 180,
   "metadata": {
    "ExecuteTime": {
     "end_time": "2017-01-17T02:46:49.815232",
     "start_time": "2017-01-17T02:46:41.680948"
    },
    "collapsed": false
   },
   "outputs": [
    {
     "name": "stdout",
     "output_type": "stream",
     "text": [
      "[('NV', 662428), ('AZ', 622446), ('NC', 112794), ('PA', 78754), ('WI', 49243), ('EDH', 15189), ('IL', 13054), ('ON', 4814), ('SC', 3532), ('TX', 899), ('MLN', 792), ('NM', 12), ('ELN', 11), ('FIF', 7), ('KHL', 5), ('AK', 3), ('FL', 2), ('NTH', 0), ('SCB', 0), ('XGL', 0), ('CA', 0), ('MN', 0), ('HAM', 0)]\n"
     ]
    }
   ],
   "source": [
    "# print number of restaurant reviews in English speaking states\n",
    "\n",
    "english_speaking_states = set(['PA','NC','SC','WI','IL','AZ','CA',\n",
    "                                   'NV','FL','NM','ON','TX','EDH','MLN',\n",
    "                                   'HAM','SCB','ELN','FIF','NTH','XGL',\n",
    "                                   'KHL','MN','AK'])\n",
    "\n",
    "reviews_per_state = []\n",
    "\n",
    "for state in english_speaking_states:\n",
    "    reviews_per_state.append((state, len(restaurant_reviews[restaurant_reviews['state'] == state])))\n",
    "\n",
    "reviews_per_state.sort(key=lambda x: x[1], reverse=True)\n",
    "\n",
    "print(reviews_per_state)"
   ]
  },
  {
   "cell_type": "markdown",
   "metadata": {},
   "source": [
    "It is clear that Nevada is the state with the most reviews - we will focus on that state"
   ]
  },
  {
   "cell_type": "code",
   "execution_count": 181,
   "metadata": {
    "ExecuteTime": {
     "end_time": "2017-01-17T02:46:53.234483",
     "start_time": "2017-01-17T02:46:49.816819"
    },
    "collapsed": false
   },
   "outputs": [
    {
     "name": "stdout",
     "output_type": "stream",
     "text": [
      "\n"
     ]
    }
   ],
   "source": [
    "# Filtering restaurants for Las Vegas only\n",
    "\n",
    "nevada_restaurant_reviews = restaurant_reviews[restaurant_reviews['state'] == 'NV']\n",
    "nevada_restaurant_reviews['city'].unique()\n",
    "\n",
    "lasvegas_filter = nevada_restaurant_reviews['city'].progress_apply(lambda x: 'Las Vegas' in x or 'LasVegas' in x)\n",
    "lasvegas_restaurant_reviews = nevada_restaurant_reviews[lasvegas_filter]"
   ]
  },
  {
   "cell_type": "code",
   "execution_count": 182,
   "metadata": {
    "ExecuteTime": {
     "end_time": "2017-01-17T02:46:53.443628",
     "start_time": "2017-01-17T02:46:53.236248"
    },
    "collapsed": false
   },
   "outputs": [],
   "source": [
    "num_lv_reviews = len(lasvegas_restaurant_reviews)\n",
    "num_lv_restaurants = len(lasvegas_restaurant_reviews.business_id.unique())\n",
    "num_lv_users = len(lasvegas_restaurant_reviews.user_id.unique())"
   ]
  },
  {
   "cell_type": "markdown",
   "metadata": {
    "ExecuteTime": {
     "end_time": "2017-01-16T22:52:27.133776",
     "start_time": "2017-01-16T22:52:27.076574"
    },
    "variables": {
     "'{:,}'.format(num_lv_restaurants)": {},
     "'{:,}'.format(num_lv_reviews)": {},
     "'{:,}'.format(num_lv_users)": {}
    }
   },
   "source": [
    "* There are {{'{:,}'.format(num_lv_reviews)}} reviews of {{'{:,}'.format(num_lv_restaurants)}} restaurants in Las Vegas by {{'{:,}'.format(num_lv_users)}} different users"
   ]
  },
  {
   "cell_type": "markdown",
   "metadata": {},
   "source": [
    "# 3. Cleaning up data and memory"
   ]
  },
  {
   "cell_type": "code",
   "execution_count": 183,
   "metadata": {
    "ExecuteTime": {
     "end_time": "2017-01-17T02:46:53.484081",
     "start_time": "2017-01-17T02:46:53.461011"
    },
    "collapsed": false
   },
   "outputs": [],
   "source": [
    "# Keeping only relevant items\n",
    "\n",
    "lasvegas_restaurant_reviews = lasvegas_restaurant_reviews[['stars_x',\n",
    "                                                           'user_id',\n",
    "                                                           'business_id']]"
   ]
  },
  {
   "cell_type": "markdown",
   "metadata": {},
   "source": [
    "# 4. Exploring Las Vegas Restaurant Reviews"
   ]
  },
  {
   "cell_type": "code",
   "execution_count": 184,
   "metadata": {
    "ExecuteTime": {
     "end_time": "2017-01-17T02:46:53.637920",
     "start_time": "2017-01-17T02:46:53.485661"
    },
    "collapsed": false
   },
   "outputs": [
    {
     "data": {
      "text/html": [
       "<div>\n",
       "<table border=\"1\" class=\"dataframe\">\n",
       "  <thead>\n",
       "    <tr style=\"text-align: right;\">\n",
       "      <th></th>\n",
       "      <th>stars_x</th>\n",
       "      <th>user_id</th>\n",
       "    </tr>\n",
       "  </thead>\n",
       "  <tbody>\n",
       "    <tr>\n",
       "      <th>count</th>\n",
       "      <td>5202.000000</td>\n",
       "      <td>5202.000000</td>\n",
       "    </tr>\n",
       "    <tr>\n",
       "      <th>mean</th>\n",
       "      <td>117.185506</td>\n",
       "      <td>117.185506</td>\n",
       "    </tr>\n",
       "    <tr>\n",
       "      <th>std</th>\n",
       "      <td>273.051224</td>\n",
       "      <td>273.051224</td>\n",
       "    </tr>\n",
       "    <tr>\n",
       "      <th>min</th>\n",
       "      <td>1.000000</td>\n",
       "      <td>1.000000</td>\n",
       "    </tr>\n",
       "    <tr>\n",
       "      <th>25%</th>\n",
       "      <td>11.000000</td>\n",
       "      <td>11.000000</td>\n",
       "    </tr>\n",
       "    <tr>\n",
       "      <th>50%</th>\n",
       "      <td>33.000000</td>\n",
       "      <td>33.000000</td>\n",
       "    </tr>\n",
       "    <tr>\n",
       "      <th>75%</th>\n",
       "      <td>113.000000</td>\n",
       "      <td>113.000000</td>\n",
       "    </tr>\n",
       "    <tr>\n",
       "      <th>max</th>\n",
       "      <td>5558.000000</td>\n",
       "      <td>5558.000000</td>\n",
       "    </tr>\n",
       "  </tbody>\n",
       "</table>\n",
       "</div>"
      ],
      "text/plain": [
       "           stars_x      user_id\n",
       "count  5202.000000  5202.000000\n",
       "mean    117.185506   117.185506\n",
       "std     273.051224   273.051224\n",
       "min       1.000000     1.000000\n",
       "25%      11.000000    11.000000\n",
       "50%      33.000000    33.000000\n",
       "75%     113.000000   113.000000\n",
       "max    5558.000000  5558.000000"
      ]
     },
     "execution_count": 184,
     "metadata": {},
     "output_type": "execute_result"
    }
   ],
   "source": [
    "lasvegas_restaurant_reviews.groupby('business_id').count().describe()"
   ]
  },
  {
   "cell_type": "code",
   "execution_count": 185,
   "metadata": {
    "ExecuteTime": {
     "end_time": "2017-01-17T02:46:54.349476",
     "start_time": "2017-01-17T02:46:53.639700"
    },
    "collapsed": false
   },
   "outputs": [
    {
     "data": {
      "text/html": [
       "<div>\n",
       "<table border=\"1\" class=\"dataframe\">\n",
       "  <thead>\n",
       "    <tr style=\"text-align: right;\">\n",
       "      <th></th>\n",
       "      <th>stars_x</th>\n",
       "      <th>business_id</th>\n",
       "    </tr>\n",
       "  </thead>\n",
       "  <tbody>\n",
       "    <tr>\n",
       "      <th>count</th>\n",
       "      <td>216037.000000</td>\n",
       "      <td>216037.000000</td>\n",
       "    </tr>\n",
       "    <tr>\n",
       "      <th>mean</th>\n",
       "      <td>2.821734</td>\n",
       "      <td>2.821734</td>\n",
       "    </tr>\n",
       "    <tr>\n",
       "      <th>std</th>\n",
       "      <td>7.894279</td>\n",
       "      <td>7.894279</td>\n",
       "    </tr>\n",
       "    <tr>\n",
       "      <th>min</th>\n",
       "      <td>1.000000</td>\n",
       "      <td>1.000000</td>\n",
       "    </tr>\n",
       "    <tr>\n",
       "      <th>25%</th>\n",
       "      <td>1.000000</td>\n",
       "      <td>1.000000</td>\n",
       "    </tr>\n",
       "    <tr>\n",
       "      <th>50%</th>\n",
       "      <td>1.000000</td>\n",
       "      <td>1.000000</td>\n",
       "    </tr>\n",
       "    <tr>\n",
       "      <th>75%</th>\n",
       "      <td>2.000000</td>\n",
       "      <td>2.000000</td>\n",
       "    </tr>\n",
       "    <tr>\n",
       "      <th>max</th>\n",
       "      <td>887.000000</td>\n",
       "      <td>887.000000</td>\n",
       "    </tr>\n",
       "  </tbody>\n",
       "</table>\n",
       "</div>"
      ],
      "text/plain": [
       "             stars_x    business_id\n",
       "count  216037.000000  216037.000000\n",
       "mean        2.821734       2.821734\n",
       "std         7.894279       7.894279\n",
       "min         1.000000       1.000000\n",
       "25%         1.000000       1.000000\n",
       "50%         1.000000       1.000000\n",
       "75%         2.000000       2.000000\n",
       "max       887.000000     887.000000"
      ]
     },
     "execution_count": 185,
     "metadata": {},
     "output_type": "execute_result"
    }
   ],
   "source": [
    "lasvegas_restaurant_reviews.groupby('user_id').count().describe()"
   ]
  },
  {
   "cell_type": "code",
   "execution_count": 131,
   "metadata": {
    "ExecuteTime": {
     "end_time": "2017-01-17T02:09:31.211575",
     "start_time": "2017-01-17T02:09:28.591031"
    },
    "collapsed": false
   },
   "outputs": [],
   "source": [
    "# # Creating unique integers for each restaurant and user for visual comfort\n",
    "# lasvegas_restaurant_reviews.business_id = lasvegas_restaurant_reviews.business_id.astype('category')\n",
    "# lasvegas_restaurant_reviews.user_id = lasvegas_restaurant_reviews.user_id.astype('category')\n",
    "\n",
    "# restaurant_le = LabelEncoder()\n",
    "# user_le = LabelEncoder()\n",
    "\n",
    "# restaurant_ident = restaurant_le.fit_transform(lasvegas_restaurant_reviews.business_id)\n",
    "# user_ident = user_le.fit_transform(lasvegas_restaurant_reviews.user_id)\n",
    "\n",
    "# # Resetting index for Las Vegas restaurant reviews to ensure new user and business labels match\n",
    "# lasvegas_restaurant_reviews = lasvegas_restaurant_reviews.reset_index()\n",
    "\n",
    "# lasvegas_restaurant_reviews['user_ident'] = pd.Series(user_ident)\n",
    "# lasvegas_restaurant_reviews['restaurant_ident'] = pd.Series(restaurant_ident)"
   ]
  },
  {
   "cell_type": "markdown",
   "metadata": {},
   "source": [
    "# 5. Filtering for Users with at least 5 reviews  to reduce dimensionality and so that collaborative filtering makes sense "
   ]
  },
  {
   "cell_type": "code",
   "execution_count": 330,
   "metadata": {
    "ExecuteTime": {
     "end_time": "2017-01-17T04:05:31.437032",
     "start_time": "2017-01-17T04:05:30.324804"
    },
    "collapsed": false
   },
   "outputs": [],
   "source": [
    "# Define filter with minimum of 5 reviews\n",
    "min_review_filter = pd.DataFrame(lasvegas_restaurant_reviews\\\n",
    "                                 .groupby('user_id')\\\n",
    "                                 .count()\\\n",
    "                                 .business_id >= 5)\n",
    "\n",
    "min_review = min_review_filter\\\n",
    ".rename(columns={'business_id':'user_at_least_{}_reviews'\\\n",
    "                                  .format(min_reviews)})\n",
    "\n",
    "min_review['user_id'] = min_review.index\n",
    "\n",
    "\n",
    "# Create filtered reviews dataframe\n",
    "\n",
    "lv_reviews = pd.merge(lasvegas_restaurant_reviews,\n",
    "                     min_review,\n",
    "                     how='left',\n",
    "                     left_on='user_id',\n",
    "                     right_on='user_id')\n",
    "\n",
    "lv_reviews = lv_reviews[lv_reviews['user_at_least_5_reviews']]\n",
    "\n",
    "n_users = lv_reviews['user_id'].unique().shape[0]\n",
    "n_restaurants = lv_reviews['business_id'].unique().shape[0]\n",
    "\n",
    "lv_reviews = lv_reviews.drop('user_at_least_5_reviews', axis=1)\n",
    "lv_reviews = lv_reviews"
   ]
  },
  {
   "cell_type": "code",
   "execution_count": 331,
   "metadata": {
    "ExecuteTime": {
     "end_time": "2017-01-17T04:05:31.464360",
     "start_time": "2017-01-17T04:05:31.439940"
    },
    "collapsed": true
   },
   "outputs": [],
   "source": [
    "lv_reviews = lv_reviews.reset_index()"
   ]
  },
  {
   "cell_type": "code",
   "execution_count": 332,
   "metadata": {
    "ExecuteTime": {
     "end_time": "2017-01-17T04:05:31.470074",
     "start_time": "2017-01-17T04:05:31.466071"
    },
    "collapsed": false
   },
   "outputs": [],
   "source": [
    "user_limit = 1000\n",
    "random_user_idx = np.random.choice(n_users,user_limit,replace=False)"
   ]
  },
  {
   "cell_type": "code",
   "execution_count": 333,
   "metadata": {
    "ExecuteTime": {
     "end_time": "2017-01-17T04:05:31.998095",
     "start_time": "2017-01-17T04:05:31.995013"
    },
    "collapsed": true
   },
   "outputs": [],
   "source": [
    "random_user_idx = set(random_user_idx)"
   ]
  },
  {
   "cell_type": "code",
   "execution_count": 334,
   "metadata": {
    "ExecuteTime": {
     "end_time": "2017-01-17T04:05:32.843626",
     "start_time": "2017-01-17T04:05:32.123733"
    },
    "collapsed": false
   },
   "outputs": [],
   "source": [
    "user_ident = LabelEncoder().fit_transform(lv_reviews.user_id)"
   ]
  },
  {
   "cell_type": "code",
   "execution_count": 335,
   "metadata": {
    "ExecuteTime": {
     "end_time": "2017-01-17T04:05:32.851132",
     "start_time": "2017-01-17T04:05:32.844996"
    },
    "collapsed": false
   },
   "outputs": [],
   "source": [
    "user_ident = pd.DataFrame(user_ident)\n",
    "user_ident = user_ident.rename(columns={0:'user_ident'})"
   ]
  },
  {
   "cell_type": "code",
   "execution_count": 336,
   "metadata": {
    "ExecuteTime": {
     "end_time": "2017-01-17T04:05:32.878591",
     "start_time": "2017-01-17T04:05:32.852840"
    },
    "collapsed": false
   },
   "outputs": [],
   "source": [
    "lv_reviews = pd.concat([lv_reviews,user_ident], axis=1)"
   ]
  },
  {
   "cell_type": "code",
   "execution_count": 337,
   "metadata": {
    "ExecuteTime": {
     "end_time": "2017-01-17T04:05:34.109505",
     "start_time": "2017-01-17T04:05:33.005013"
    },
    "collapsed": false
   },
   "outputs": [],
   "source": [
    "lv_reviews_mask = lv_reviews.user_ident.progress_apply(lambda x: x in random_user_idx)"
   ]
  },
  {
   "cell_type": "code",
   "execution_count": 338,
   "metadata": {
    "ExecuteTime": {
     "end_time": "2017-01-17T04:05:35.087722",
     "start_time": "2017-01-17T04:05:35.074621"
    },
    "collapsed": true
   },
   "outputs": [],
   "source": [
    "lv_reviews_sample = lv_reviews[lv_reviews_mask]"
   ]
  },
  {
   "cell_type": "code",
   "execution_count": 339,
   "metadata": {
    "ExecuteTime": {
     "end_time": "2017-01-17T04:05:35.353935",
     "start_time": "2017-01-17T04:05:35.350463"
    },
    "collapsed": false
   },
   "outputs": [
    {
     "data": {
      "text/plain": [
       "11965"
      ]
     },
     "execution_count": 339,
     "metadata": {},
     "output_type": "execute_result"
    }
   ],
   "source": [
    "len(lv_reviews_sample)"
   ]
  },
  {
   "cell_type": "code",
   "execution_count": 348,
   "metadata": {
    "ExecuteTime": {
     "end_time": "2017-01-17T04:17:03.815554",
     "start_time": "2017-01-17T04:17:03.809904"
    },
    "collapsed": false
   },
   "outputs": [],
   "source": [
    "n_restaurants = lv_reviews_sample.business_id.unique().shape[0]"
   ]
  },
  {
   "cell_type": "code",
   "execution_count": 347,
   "metadata": {
    "ExecuteTime": {
     "end_time": "2017-01-17T04:16:55.193031",
     "start_time": "2017-01-17T04:16:55.188098"
    },
    "collapsed": false
   },
   "outputs": [],
   "source": [
    "n_users = lv_reviews_sample.user_id.unique().shape[0]"
   ]
  },
  {
   "cell_type": "code",
   "execution_count": 349,
   "metadata": {
    "ExecuteTime": {
     "end_time": "2017-01-17T04:17:16.867863",
     "start_time": "2017-01-17T04:17:16.854544"
    },
    "collapsed": true
   },
   "outputs": [],
   "source": [
    "lv_reviews = lv_reviews_sample"
   ]
  },
  {
   "cell_type": "code",
   "execution_count": 350,
   "metadata": {
    "ExecuteTime": {
     "end_time": "2017-01-17T04:17:20.474366",
     "start_time": "2017-01-17T04:17:20.007120"
    },
    "collapsed": false
   },
   "outputs": [],
   "source": [
    "# Creating unique integers for each restaurant and user for visual comfort\n",
    "lv_reviews.business_id = lv_reviews.business_id.astype('category')\n",
    "lv_reviews.user_id = lv_reviews.user_id.astype('category')\n",
    "\n",
    "restaurant_le = LabelEncoder()\n",
    "user_le = LabelEncoder()\n",
    "\n",
    "restaurant_ident = restaurant_le.fit_transform(lv_reviews.business_id)\n",
    "user_ident = user_le.fit_transform(lv_reviews.user_id)\n",
    "\n",
    "# Resetting index for Las Vegas restaurant reviews to ensure new user and business labels match\n",
    "lv_reviews = lv_reviews.reset_index()\n",
    "\n",
    "lv_reviews['user_ident'] = pd.Series(user_ident)\n",
    "lv_reviews['restaurant_ident'] = pd.Series(restaurant_ident)\n",
    "\n",
    "lv_reviews = lv_reviews.drop('index', axis=1)"
   ]
  },
  {
   "cell_type": "code",
   "execution_count": 352,
   "metadata": {
    "ExecuteTime": {
     "end_time": "2017-01-17T04:17:39.822094",
     "start_time": "2017-01-17T04:17:39.811247"
    },
    "collapsed": true
   },
   "outputs": [],
   "source": [
    "# Creating training and test set\n",
    "train_data, test_data = train_test_split(lv_reviews, test_size=0.3)"
   ]
  },
  {
   "cell_type": "code",
   "execution_count": 355,
   "metadata": {
    "ExecuteTime": {
     "end_time": "2017-01-17T04:18:01.433314",
     "start_time": "2017-01-17T04:18:01.421394"
    },
    "collapsed": false
   },
   "outputs": [
    {
     "data": {
      "text/html": [
       "<div>\n",
       "<table border=\"1\" class=\"dataframe\">\n",
       "  <thead>\n",
       "    <tr style=\"text-align: right;\">\n",
       "      <th></th>\n",
       "      <th>level_0</th>\n",
       "      <th>stars_x</th>\n",
       "      <th>user_id</th>\n",
       "      <th>business_id</th>\n",
       "      <th>user_ident</th>\n",
       "      <th>restaurant_ident</th>\n",
       "    </tr>\n",
       "  </thead>\n",
       "  <tbody>\n",
       "    <tr>\n",
       "      <th>10255</th>\n",
       "      <td>275625</td>\n",
       "      <td>4</td>\n",
       "      <td>WaadgVcGvWR4tdIQAtgFdw</td>\n",
       "      <td>L-NzaroskDG7cwW9OJJadw</td>\n",
       "      <td>529</td>\n",
       "      <td>935</td>\n",
       "    </tr>\n",
       "    <tr>\n",
       "      <th>7972</th>\n",
       "      <td>216178</td>\n",
       "      <td>5</td>\n",
       "      <td>99J2_TFB68H9y9jKjA_hzA</td>\n",
       "      <td>qth1W742hXtFoNVYvuHBEg</td>\n",
       "      <td>138</td>\n",
       "      <td>2389</td>\n",
       "    </tr>\n",
       "    <tr>\n",
       "      <th>97</th>\n",
       "      <td>2498</td>\n",
       "      <td>4</td>\n",
       "      <td>cyqdRUPBvK97jaHYe99cDw</td>\n",
       "      <td>Yq8LiVymGA7vBpGCQuDfRw</td>\n",
       "      <td>632</td>\n",
       "      <td>1577</td>\n",
       "    </tr>\n",
       "    <tr>\n",
       "      <th>10612</th>\n",
       "      <td>284495</td>\n",
       "      <td>3</td>\n",
       "      <td>SiWTbZME2p22NyvN-p29Pw</td>\n",
       "      <td>hCmarzJoLFQ8VqAP3aUcjg</td>\n",
       "      <td>460</td>\n",
       "      <td>1975</td>\n",
       "    </tr>\n",
       "  </tbody>\n",
       "</table>\n",
       "</div>"
      ],
      "text/plain": [
       "       level_0  stars_x                 user_id             business_id  \\\n",
       "10255   275625        4  WaadgVcGvWR4tdIQAtgFdw  L-NzaroskDG7cwW9OJJadw   \n",
       "7972    216178        5  99J2_TFB68H9y9jKjA_hzA  qth1W742hXtFoNVYvuHBEg   \n",
       "97        2498        4  cyqdRUPBvK97jaHYe99cDw  Yq8LiVymGA7vBpGCQuDfRw   \n",
       "10612   284495        3  SiWTbZME2p22NyvN-p29Pw  hCmarzJoLFQ8VqAP3aUcjg   \n",
       "\n",
       "       user_ident  restaurant_ident  \n",
       "10255         529               935  \n",
       "7972          138              2389  \n",
       "97            632              1577  \n",
       "10612         460              1975  "
      ]
     },
     "execution_count": 355,
     "metadata": {},
     "output_type": "execute_result"
    }
   ],
   "source": [
    "train_data.head(4)"
   ]
  },
  {
   "cell_type": "code",
   "execution_count": 356,
   "metadata": {
    "ExecuteTime": {
     "end_time": "2017-01-17T04:18:31.294637",
     "start_time": "2017-01-17T04:18:31.235589"
    },
    "collapsed": false
   },
   "outputs": [],
   "source": [
    "# Create training and test matrices\n",
    "R = np.zeros((n_users, n_restaurants))\n",
    "for line in train_data.itertuples():\n",
    "    R[line[5]-1,line[6]-1] = line[2]\n",
    "    \n",
    "T = np.zeros((n_users, n_restaurants))\n",
    "for line in test_data.itertuples():\n",
    "    T[line[5]-1,line[6]-1] = line[2]"
   ]
  },
  {
   "cell_type": "code",
   "execution_count": 357,
   "metadata": {
    "ExecuteTime": {
     "end_time": "2017-01-17T04:18:33.016755",
     "start_time": "2017-01-17T04:18:32.864832"
    },
    "collapsed": false
   },
   "outputs": [],
   "source": [
    "# Create index matrix for training data\n",
    "I = R.copy()\n",
    "I[I > 0] = 1\n",
    "I[I == 0] = 0\n",
    "\n",
    "# Create index matrix for test data\n",
    "I2 = T.copy()\n",
    "I2[I2 >0] = 1\n",
    "I2[I2 == 0] = 0"
   ]
  },
  {
   "cell_type": "code",
   "execution_count": 358,
   "metadata": {
    "ExecuteTime": {
     "end_time": "2017-01-17T04:18:33.199747",
     "start_time": "2017-01-17T04:18:33.195259"
    },
    "collapsed": true
   },
   "outputs": [],
   "source": [
    "# Calculate RMSE\n",
    "\n",
    "def rmse(I,R,Q,P):\n",
    "    return np.sqrt(np.sum((I * (R - np.dot(P.T,Q)))**2)/len(R[R>0]))"
   ]
  },
  {
   "cell_type": "code",
   "execution_count": 359,
   "metadata": {
    "ExecuteTime": {
     "end_time": "2017-01-17T04:18:34.693801",
     "start_time": "2017-01-17T04:18:34.679875"
    },
    "collapsed": true
   },
   "outputs": [],
   "source": [
    "# Initialize ALS hyperparameters\n",
    "\n",
    "lmbda = 0.1 # Regularization weight\n",
    "k = 20 # Dimensionality of the latent feature space\n",
    "m, n = R.shape # number of users and restaurants\n",
    "n_epochs = 15 # Number of epochs\n",
    "\n",
    "P = 3 * np.random.rand(k,m) # Latent user feature matrix\n",
    "Q = 3 * np.random.rand(k,n) # Latent movie feature matrix\n",
    "Q[0,:] = R[R != 0].mean(axis=0) # Average rating for each movie\n",
    "E = np.eye(k) # (k x k) - dimensional identity matrix"
   ]
  },
  {
   "cell_type": "code",
   "execution_count": 360,
   "metadata": {
    "ExecuteTime": {
     "end_time": "2017-01-17T04:39:04.350408",
     "start_time": "2017-01-17T04:18:35.461604"
    },
    "collapsed": false
   },
   "outputs": [
    {
     "name": "stdout",
     "output_type": "stream",
     "text": [
      "[Epoch 1/15] train error: 0.931907, test error: 2.529472\n",
      "[Epoch 2/15] train error: 0.537427, test error: 2.330289\n",
      "[Epoch 3/15] train error: 0.412784, test error: 2.235607\n",
      "[Epoch 4/15] train error: 0.347460, test error: 2.173009\n",
      "[Epoch 5/15] train error: 0.306932, test error: 2.127825\n",
      "[Epoch 6/15] train error: 0.279436, test error: 2.094226\n",
      "[Epoch 7/15] train error: 0.259631, test error: 2.068747\n",
      "[Epoch 8/15] train error: 0.244741, test error: 2.049181\n",
      "[Epoch 9/15] train error: 0.233181, test error: 2.033944\n",
      "[Epoch 10/15] train error: 0.223992, test error: 2.021946\n",
      "[Epoch 11/15] train error: 0.216558, test error: 2.012391\n",
      "[Epoch 12/15] train error: 0.210461, test error: 2.004701\n",
      "[Epoch 13/15] train error: 0.205402, test error: 1.998450\n",
      "[Epoch 14/15] train error: 0.201167, test error: 1.993327\n",
      "[Epoch 15/15] train error: 0.197590, test error: 1.989095\n",
      "Algorithm converged\n"
     ]
    }
   ],
   "source": [
    "train_errors = []\n",
    "test_errors = []\n",
    "\n",
    "# Repeat until convergence\n",
    "for epoch in range(n_epochs):\n",
    "    # Fix Q and estimate P\n",
    "    for i, Ii in enumerate(I):\n",
    "        nui = np.count_nonzero(Ii) # Number of items user i has rated\n",
    "        if (nui == 0): nui = 1 # Be aware of zero counts!\n",
    "    \n",
    "        # Least squares solution\n",
    "        Ai = np.dot(Q, np.dot(np.diag(Ii), Q.T)) + lmbda * nui * E\n",
    "        Vi = np.dot(Q, np.dot(np.diag(Ii), R[i].T))\n",
    "        P[:,i] = np.linalg.solve(Ai,Vi)\n",
    "        \n",
    "    # Fix P and estimate Q\n",
    "    for j, Ij in enumerate(I.T):\n",
    "        nmj = np.count_nonzero(Ij) # Number of users that rated item j\n",
    "        if (nmj == 0): nmj = 1 # Be aware of zero counts!\n",
    "        \n",
    "        # Least squares solution\n",
    "        Aj = np.dot(P, np.dot(np.diag(Ij), P.T)) + lmbda * nmj * E\n",
    "        Vj = np.dot(P, np.dot(np.diag(Ij), R[:,j]))\n",
    "        Q[:,j] = np.linalg.solve(Aj,Vj)\n",
    "    \n",
    "    train_rmse = rmse(I,R,Q,P)\n",
    "    test_rmse = rmse(I2,T,Q,P)\n",
    "    train_errors.append(train_rmse)\n",
    "    test_errors.append(test_rmse)\n",
    "    \n",
    "    print(\"[Epoch %d/%d] train error: %f, test error: %f\" \\\n",
    "    %(epoch+1, n_epochs, train_rmse, test_rmse))\n",
    "    \n",
    "print(\"Algorithm converged\")\n",
    "\n",
    "# Check performance by plotting train and test errors\n",
    "\n",
    "plt.plot(range(n_epochs), train_errors, marker='o', label='Training Data');\n",
    "plt.plot(range(n_epochs), test_errors, marker='v', label='Test Data');\n",
    "plt.title('ALS-WR Learning Curve')\n",
    "plt.xlabel('Number of Epochs');\n",
    "plt.ylabel('RMSE');\n",
    "plt.legend()\n",
    "plt.grid()\n",
    "plt.show()"
   ]
  },
  {
   "cell_type": "code",
   "execution_count": 363,
   "metadata": {
    "ExecuteTime": {
     "end_time": "2017-01-17T04:42:03.943616",
     "start_time": "2017-01-17T04:42:03.624765"
    },
    "collapsed": false
   },
   "outputs": [
    {
     "data": {
      "image/png": "[encoded data removed]",
      "text/plain": [
       "<matplotlib.figure.Figure at 0x1cecafe10>"
      ]
     },
     "metadata": {},
     "output_type": "display_data"
    }
   ],
   "source": [
    "lmbda = 0.1 # Regularization weight\n",
    "k = 50 # Dimensionality of the latent feature space\n",
    "m, n = R.shape # number of users and restaurants\n",
    "n_epochs = 15 # Number of epochs"
   ]
  },
  {
   "cell_type": "code",
   "execution_count": null,
   "metadata": {
    "collapsed": true
   },
   "outputs": [],
   "source": [
    "lmbda = 10 # Regularization weight\n",
    "k = 100 # Dimensionality of the latent feature space\n",
    "m, n = R.shape # number of users and restaurants\n",
    "n_epochs = 15 # Number of epochs"
   ]
  },
  {
   "cell_type": "code",
   "execution_count": 373,
   "metadata": {
    "ExecuteTime": {
     "end_time": "2017-01-17T04:50:53.012200",
     "start_time": "2017-01-17T04:50:52.998324"
    },
    "collapsed": true
   },
   "outputs": [],
   "source": [
    "# Calculate prediction matrix R_hat (low-rank approximation for R)\n",
    "R_hat = pd.DataFrame(np.dot(P.T,Q))\n",
    "R = pd.DataFrame(R)"
   ]
  },
  {
   "cell_type": "code",
   "execution_count": 368,
   "metadata": {
    "ExecuteTime": {
     "end_time": "2017-01-17T04:44:51.380638",
     "start_time": "2017-01-17T04:44:51.143966"
    },
    "collapsed": false
   },
   "outputs": [
    {
     "data": {
      "text/html": [
       "<div>\n",
       "<table border=\"1\" class=\"dataframe\">\n",
       "  <thead>\n",
       "    <tr style=\"text-align: right;\">\n",
       "      <th></th>\n",
       "      <th>Actual Rating</th>\n",
       "      <th>Predicted Rating</th>\n",
       "    </tr>\n",
       "  </thead>\n",
       "  <tbody>\n",
       "    <tr>\n",
       "      <th>52</th>\n",
       "      <td>5.0</td>\n",
       "      <td>4.729594</td>\n",
       "    </tr>\n",
       "    <tr>\n",
       "      <th>1547</th>\n",
       "      <td>1.0</td>\n",
       "      <td>0.971685</td>\n",
       "    </tr>\n",
       "    <tr>\n",
       "      <th>1641</th>\n",
       "      <td>2.0</td>\n",
       "      <td>2.121603</td>\n",
       "    </tr>\n",
       "    <tr>\n",
       "      <th>2068</th>\n",
       "      <td>5.0</td>\n",
       "      <td>4.737970</td>\n",
       "    </tr>\n",
       "    <tr>\n",
       "      <th>2699</th>\n",
       "      <td>4.0</td>\n",
       "      <td>3.866673</td>\n",
       "    </tr>\n",
       "  </tbody>\n",
       "</table>\n",
       "</div>"
      ],
      "text/plain": [
       "      Actual Rating  Predicted Rating\n",
       "52              5.0          4.729594\n",
       "1547            1.0          0.971685\n",
       "1641            2.0          2.121603\n",
       "2068            5.0          4.737970\n",
       "2699            4.0          3.866673"
      ]
     },
     "execution_count": 368,
     "metadata": {},
     "output_type": "execute_result"
    }
   ],
   "source": [
    "# Compare true ratings of user 6 with predictions\n",
    "ratings = pd.DataFrame(data=R.loc[5,R.loc[5,:] > 0]).head(n=5)\n",
    "ratings['Prediction'] = R_hat.loc[5,R.loc[5,:] > 0]\n",
    "ratings.columns = ['Actual Rating', 'Predicted Rating']\n",
    "\n",
    "ratings"
   ]
  },
  {
   "cell_type": "code",
   "execution_count": 369,
   "metadata": {
    "ExecuteTime": {
     "end_time": "2017-01-17T04:44:53.830174",
     "start_time": "2017-01-17T04:44:53.818102"
    },
    "collapsed": false
   },
   "outputs": [
    {
     "data": {
      "text/html": [
       "<div>\n",
       "<table border=\"1\" class=\"dataframe\">\n",
       "  <thead>\n",
       "    <tr style=\"text-align: right;\">\n",
       "      <th></th>\n",
       "      <th>Predicted Rating</th>\n",
       "    </tr>\n",
       "  </thead>\n",
       "  <tbody>\n",
       "    <tr>\n",
       "      <th>2427</th>\n",
       "      <td>4.349431</td>\n",
       "    </tr>\n",
       "    <tr>\n",
       "      <th>2775</th>\n",
       "      <td>4.227146</td>\n",
       "    </tr>\n",
       "    <tr>\n",
       "      <th>264</th>\n",
       "      <td>4.065422</td>\n",
       "    </tr>\n",
       "    <tr>\n",
       "      <th>998</th>\n",
       "      <td>4.043889</td>\n",
       "    </tr>\n",
       "    <tr>\n",
       "      <th>1540</th>\n",
       "      <td>3.970024</td>\n",
       "    </tr>\n",
       "  </tbody>\n",
       "</table>\n",
       "</div>"
      ],
      "text/plain": [
       "      Predicted Rating\n",
       "2427          4.349431\n",
       "2775          4.227146\n",
       "264           4.065422\n",
       "998           4.043889\n",
       "1540          3.970024"
      ]
     },
     "execution_count": 369,
     "metadata": {},
     "output_type": "execute_result"
    }
   ],
   "source": [
    "predictions = R_hat.loc[5,R.loc[5,:] == 0] # Predictions for movies that the user 6 hasn't rated yet\n",
    "top5 = predictions.sort_values(ascending=False).head(n=5)\n",
    "recommendations = pd.DataFrame(data=top5)\n",
    "recommendations.columns = ['Predicted Rating']\n",
    "\n",
    "recommendations"
   ]
  },
  {
   "cell_type": "code",
   "execution_count": null,
   "metadata": {
    "collapsed": true
   },
   "outputs": [],
   "source": []
  }
 ],
 "metadata": {
  "anaconda-cloud": {},
  "kernelspec": {
   "display_name": "Python [conda env:python3]",
   "language": "python",
   "name": "conda-env-python3-py"
  },
  "language_info": {
   "codemirror_mode": {
    "name": "ipython",
    "version": 3
   },
   "file_extension": ".py",
   "mimetype": "text/x-python",
   "name": "python",
   "nbconvert_exporter": "python",
   "pygments_lexer": "ipython3",
   "version": "3.5.2"
  }
 },
 "nbformat": 4,
 "nbformat_minor": 0
}
